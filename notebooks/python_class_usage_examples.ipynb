{
 "cells": [
  {
   "cell_type": "code",
   "execution_count": 55,
   "metadata": {},
   "outputs": [
    {
     "name": "stdout",
     "output_type": "stream",
     "text": [
      "dotenv loaded\n"
     ]
    }
   ],
   "source": [
    "import requests\n",
    "import os\n",
    "import sys\n",
    "import pandas as pd\n",
    "from typing import Optional\n",
    "import dotenv\n",
    "import glob\n",
    "from IPython.display import display\n",
    "# Add the parent directory of this notebook to sys.path\n",
    "notebook_dir = os.path.dirname(os.path.abspath('__file__'))\n",
    "parent_dir = os.path.dirname(notebook_dir)\n",
    "sys.path.append(parent_dir)\n",
    "\n",
    "from scripts import parse_json\n",
    "from importlib import reload\n",
    "import datetime\n",
    "import json\n",
    "from tqdm import tqdm\n",
    "import matplotlib.pyplot as plt\n",
    "%matplotlib inline\n",
    "dotenv.load_dotenv()    \n",
    "print('dotenv loaded')\n",
    "pd.set_option('display.max_colwidth', None)\n",
    "pd.set_option('display.max_rows', 100)\n",
    "\n",
    "# Suppress dateutil parser warning\n",
    "import warnings\n",
    "warnings.filterwarnings('ignore', category=UserWarning)\n"
   ]
  },
  {
   "cell_type": "markdown",
   "metadata": {},
   "source": [
    "# example usage of the InteractionStats class"
   ]
  },
  {
   "cell_type": "code",
   "execution_count": 56,
   "metadata": {},
   "outputs": [
    {
     "name": "stdout",
     "output_type": "stream",
     "text": [
      "\n",
      "Interactions DataFrame:\n"
     ]
    },
    {
     "data": {
      "text/html": [
       "<div>\n",
       "<style scoped>\n",
       "    .dataframe tbody tr th:only-of-type {\n",
       "        vertical-align: middle;\n",
       "    }\n",
       "\n",
       "    .dataframe tbody tr th {\n",
       "        vertical-align: top;\n",
       "    }\n",
       "\n",
       "    .dataframe thead th {\n",
       "        text-align: right;\n",
       "    }\n",
       "</style>\n",
       "<table border=\"1\" class=\"dataframe\">\n",
       "  <thead>\n",
       "    <tr style=\"text-align: right;\">\n",
       "      <th></th>\n",
       "      <th>interaction_type</th>\n",
       "      <th>date</th>\n",
       "      <th>author</th>\n",
       "      <th>daily_interaction_number</th>\n",
       "      <th>month</th>\n",
       "    </tr>\n",
       "  </thead>\n",
       "  <tbody>\n",
       "    <tr>\n",
       "      <th>0</th>\n",
       "      <td>comments</td>\n",
       "      <td>2/3/21</td>\n",
       "      <td>Justin Bieber</td>\n",
       "      <td>5</td>\n",
       "      <td>02/21</td>\n",
       "    </tr>\n",
       "    <tr>\n",
       "      <th>1</th>\n",
       "      <td>comments</td>\n",
       "      <td>5/4/21</td>\n",
       "      <td>Lady Gaga</td>\n",
       "      <td>6</td>\n",
       "      <td>05/21</td>\n",
       "    </tr>\n",
       "    <tr>\n",
       "      <th>2</th>\n",
       "      <td>comments</td>\n",
       "      <td>5/4/21</td>\n",
       "      <td>Snoop Dog</td>\n",
       "      <td>2</td>\n",
       "      <td>05/21</td>\n",
       "    </tr>\n",
       "    <tr>\n",
       "      <th>3</th>\n",
       "      <td>comments</td>\n",
       "      <td>13/5/21</td>\n",
       "      <td>Justin Bieber</td>\n",
       "      <td>3</td>\n",
       "      <td>05/21</td>\n",
       "    </tr>\n",
       "  </tbody>\n",
       "</table>\n",
       "</div>"
      ],
      "text/plain": [
       "  interaction_type     date         author  daily_interaction_number  month\n",
       "0         comments   2/3/21  Justin Bieber                         5  02/21\n",
       "1         comments   5/4/21      Lady Gaga                         6  05/21\n",
       "2         comments   5/4/21      Snoop Dog                         2  05/21\n",
       "3         comments  13/5/21  Justin Bieber                         3  05/21"
      ]
     },
     "metadata": {},
     "output_type": "display_data"
    },
    {
     "name": "stdout",
     "output_type": "stream",
     "text": [
      "\n",
      "Daily interaction numbers by type (comments):\n",
      "{'13/5/21': 3, '2/3/21': 5, '5/4/21': 8}\n",
      "\n",
      "Daily interaction sum:\n",
      "{'13/5/21': 3, '2/3/21': 5, '5/4/21': 8}\n",
      "\n",
      "Monthly aggregate sum:\n",
      "{'comments': {'02/21': 5, '05/21': 11}, 'posts': {}}\n"
     ]
    }
   ],
   "source": [
    "reload(parse_json)\n",
    "file_path = '../data/data.json'\n",
    "instat = parse_json.InteractionStats(file_path)\n",
    "\n",
    "\n",
    "interaction_daily_num = instat.get_interaction_daily_num_bytype('comments')\n",
    "interaction_daily_sum = instat.calculate_interaction_daily_sum()\n",
    "aggregate_monthly_sum = instat.calculate_aggregate_monthly_sum()\n",
    "instat.save_monthly_interaction_totals('monthly_interaction_totals.csv')\n",
    "\n",
    "\n",
    "print(\"\\nInteractions DataFrame:\")\n",
    "display(instat.interactions_df)\n",
    "\n",
    "print(\"\\nDaily interaction numbers by type (comments):\")\n",
    "print(interaction_daily_num)\n",
    "\n",
    "print(\"\\nDaily interaction sum:\")\n",
    "print(interaction_daily_sum)\n",
    "\n",
    "print(\"\\nMonthly aggregate sum:\")\n",
    "print(aggregate_monthly_sum)\n",
    "\n"
   ]
  },
  {
   "cell_type": "code",
   "execution_count": null,
   "metadata": {},
   "outputs": [],
   "source": []
  },
  {
   "cell_type": "code",
   "execution_count": null,
   "metadata": {},
   "outputs": [],
   "source": []
  },
  {
   "cell_type": "code",
   "execution_count": null,
   "metadata": {},
   "outputs": [],
   "source": []
  }
 ],
 "metadata": {
  "kernelspec": {
   "display_name": "py310",
   "language": "python",
   "name": "python3"
  },
  "language_info": {
   "codemirror_mode": {
    "name": "ipython",
    "version": 3
   },
   "file_extension": ".py",
   "mimetype": "text/x-python",
   "name": "python",
   "nbconvert_exporter": "python",
   "pygments_lexer": "ipython3",
   "version": "3.10.15"
  }
 },
 "nbformat": 4,
 "nbformat_minor": 2
}
